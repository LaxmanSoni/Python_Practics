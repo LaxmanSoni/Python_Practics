{
 "cells": [
  {
   "cell_type": "code",
   "execution_count": null,
   "id": "d824e7b7",
   "metadata": {},
   "outputs": [],
   "source": [
    "#basic\n",
    "#conditional statement \n",
    "\n"
   ]
  },
  {
   "cell_type": "code",
   "execution_count": null,
   "id": "1e6c5753",
   "metadata": {},
   "outputs": [],
   "source": [
    "#if number is grater 10 you have to print oth 20> else simole print the number \n",
    "\n"
   ]
  },
  {
   "cell_type": "code",
   "execution_count": 21,
   "id": "6d115d86",
   "metadata": {},
   "outputs": [
    {
     "name": "stdout",
     "output_type": "stream",
     "text": [
      "enter your number :21\n",
      "number is grater than 20\n"
     ]
    }
   ],
   "source": [
    "\n",
    "\n",
    "if number>10 and number < 20:\n",
    "    print(\"number is grater than 10 \")\n",
    "    \n",
    "elif number >20:\n",
    "    print(\"number is grater than 20\")\n",
    "    \n",
    "else:\n",
    "    print(number)"
   ]
  },
  {
   "cell_type": "code",
   "execution_count": 23,
   "id": "e5a2840c",
   "metadata": {},
   "outputs": [
    {
     "name": "stdout",
     "output_type": "stream",
     "text": [
      "enter your number :1\n",
      " child\n"
     ]
    }
   ],
   "source": [
    "\n",
    "age =int(input(\"enter your number :\"))\n",
    "\n",
    "if age<10:\n",
    "    print(\" child\")\n",
    "    \n",
    "elif age >10 and age<25:\n",
    "    print(\"adult\")\n",
    "    \n",
    "elif age > 25 and age< 50:\n",
    "    print(\"young\")\n",
    "    \n",
    "else:\n",
    "    print(\"senior citizan\")\n"
   ]
  },
  {
   "cell_type": "code",
   "execution_count": null,
   "id": "11a2ec5d",
   "metadata": {},
   "outputs": [],
   "source": [
    "#take 3 age of a persion and find out oldest one \n",
    "\n",
    "\n",
    "p_one = int(input(\"enter your age :\"))\n",
    " \n",
    "p_two = int(input(\"enter your age :\"))\n",
    "\n",
    "p_three= int(input(\"enter your age :\"))\n",
    "\n",
    "if p_one > p_two:\n",
    "    print(\"p is old\")\n",
    "elif p_one > p_three:\n",
    "    print(\"p is old \")\n",
    "elif b_two > b_three:\n",
    "    print(\"b is old\")\n",
    "elif b_two > b_one:\n",
    "    print(\"b is old\")\n",
    "else :\n",
    "    print(\"p_three is old \")\n",
    "    "
   ]
  },
  {
   "cell_type": "code",
   "execution_count": null,
   "id": "f7037d82",
   "metadata": {},
   "outputs": [],
   "source": []
  },
  {
   "cell_type": "code",
   "execution_count": null,
   "id": "467ea34c",
   "metadata": {},
   "outputs": [],
   "source": [
    "#3 angle are give  => triangle \n",
    "\n",
    "side1 = int(input(\"enter your angle :\"))\n",
    " \n",
    "side2 = int(input(\"enter your angle :\"))\n",
    "\n",
    "side3= int(input(\"enter your angle :\"))\n",
    "\n",
    "if side1+side2+side3 ==180 :\n",
    "    print (\"triangle\")\n",
    "else:\n",
    "    print(\"this is not triangle\")"
   ]
  },
  {
   "cell_type": "code",
   "execution_count": null,
   "id": "af05420c",
   "metadata": {},
   "outputs": [],
   "source": [
    "#you have been gien a year as a string and we need to check weather leap year or not "
   ]
  },
  {
   "cell_type": "code",
   "execution_count": 4,
   "id": "f4e886cf",
   "metadata": {},
   "outputs": [
    {
     "name": "stdout",
     "output_type": "stream",
     "text": [
      "1800\n",
      "not leap yr\n"
     ]
    }
   ],
   "source": [
    "year= int(input()) \n",
    "\n",
    "\n",
    "if (year % 4==0 and year % 100!=0 )or (year%400==0):\n",
    "    print(\"this is  leap year\")\n",
    "    \n",
    "\n",
    "else :\n",
    "    print(\"not leap yr\")\n",
    "\n",
    "    \n"
   ]
  },
  {
   "cell_type": "markdown",
   "id": "346efd66",
   "metadata": {},
   "source": []
  },
  {
   "cell_type": "code",
   "execution_count": null,
   "id": "579b7c34",
   "metadata": {},
   "outputs": [],
   "source": [
    "#cal total \n",
    "100 = 1\n",
    "100 =2 \n",
    "200 = 10\n",
    "else = 15 "
   ]
  },
  {
   "cell_type": "code",
   "execution_count": 8,
   "id": "203b3884",
   "metadata": {},
   "outputs": [
    {
     "name": "stdout",
     "output_type": "stream",
     "text": [
      "enter your unit 410\n",
      "850\n"
     ]
    }
   ],
   "source": [
    "unit = int(input(\"enter your unit \"))\n",
    "\n",
    "if unit <=100:\n",
    "    bill1 = unit * 1\n",
    "    print(bill1)\n",
    "elif unit > 100 and unit < 200:\n",
    "    bill2 =bill1 + (unit-100)*2\n",
    "    print(bill2)\n",
    "    \n",
    "elif unit >200 and unit < 400:\n",
    "    bill3 = bill2 + (unit-200)*10\n",
    "    print(bill3)\n",
    "else:\n",
    "    bill4 =bill3 + (unit-400)*15\n",
    "    print(bill4)"
   ]
  },
  {
   "cell_type": "code",
   "execution_count": null,
   "id": "6ce95469",
   "metadata": {},
   "outputs": [],
   "source": [
    "you have been give a b c triganl side \n",
    "scalan = not equal 2 side \n",
    "isolation = equal 2 side \n",
    "equlatral = 3 equal "
   ]
  },
  {
   "cell_type": "code",
   "execution_count": null,
   "id": "6041af88",
   "metadata": {},
   "outputs": [],
   "source": [
    "\n",
    "side1 = int(input(\"enter your side :\"))\n",
    " \n",
    "side2 = int(input(\"enter your side :\"))\n",
    "\n",
    "side3= int(input(\"enter your side:\"))\n",
    "\n",
    "if (side1 != side2 != side3):\n",
    "    print (\"scalene\")\n",
    "elif (side1 == side2 !=side3 ):\n",
    "    print (\"isosceles\")\n",
    "else:\n",
    "    print(\"equilateral\")"
   ]
  },
  {
   "cell_type": "code",
   "execution_count": null,
   "id": "17bd8700",
   "metadata": {},
   "outputs": [],
   "source": [
    "#you have been a amount and need to cal \n",
    "#mini number of notes to requires"
   ]
  },
  {
   "cell_type": "code",
   "execution_count": null,
   "id": "6f4a296e",
   "metadata": {},
   "outputs": [],
   "source": []
  }
 ],
 "metadata": {
  "kernelspec": {
   "display_name": "Python 3 (ipykernel)",
   "language": "python",
   "name": "python3"
  },
  "language_info": {
   "codemirror_mode": {
    "name": "ipython",
    "version": 3
   },
   "file_extension": ".py",
   "mimetype": "text/x-python",
   "name": "python",
   "nbconvert_exporter": "python",
   "pygments_lexer": "ipython3",
   "version": "3.11.5"
  }
 },
 "nbformat": 4,
 "nbformat_minor": 5
}
